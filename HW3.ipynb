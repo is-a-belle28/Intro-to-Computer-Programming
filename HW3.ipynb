{
 "cells": [
  {
   "cell_type": "markdown",
   "metadata": {},
   "source": [
    "# Intro to Computer Programming - Homework 3 Wilmington College\n",
    "\n",
    "Dear Students,\n",
    "\n",
    "Welcome to Homework 3 for the Intro to Computer Programming course.\n",
    "\n",
    "**Submission Instructions:**\n",
    "Please complete the homework and submit it to the Blackboard. In case you encounter any issues or have questions, feel free to seek assistance from me.\n",
    "\n",
    "**Alternative Submission:**\n",
    "If, for any reason, you are unable to use BB, you can submit your work via email.\n",
    "\n",
    "Remember, timely completion of assignments is crucial for your understanding of the course material. If you face any challenges, don't hesitate to reach out."
   ]
  },
  {
   "cell_type": "markdown",
   "metadata": {},
   "source": [
    "**Exercise 1: Track Projects**\n",
    "\n",
    "You just started a new project and need to track how long each task takes to complete. Write a program that inputs the time you start the task, the time you finish the task, and the number of tasks you complete (example input in bold):\n",
    "\n",
    "    Starting hour: 14\n",
    "    Starting minute: 45\n",
    "    Ending hour: 16\n",
    "    Ending minute: 20\n",
    "    Number of tasks completed: 3\n",
    "Based on the user input, your program should calculate and display the following results:\n",
    "\n",
    "    Worked from 14:45 to 16:20\n",
    "    Total time spent: 1 hour 35 minutes\n",
    "    Average time per task: 31.67 minutes\n",
    "\n",
    "For this exercise, you need to write code that (1) calculates the total time worked, (2) calculates the average time per task, and (3) formats the output as shown. Use f-strings and format specifiers to display two-digit minutes, whole hours, and two decimal places for the average task time. Assume the use of a 24-hour clock."
   ]
  },
  {
   "cell_type": "code",
   "execution_count": 6,
   "metadata": {},
   "outputs": [
    {
     "name": "stdout",
     "output_type": "stream",
     "text": [
      "Worked from 12:45 to 18:50\n",
      "Total time spent: 6 hours and 5 minutes\n",
      "Average time per task 52.14 minutes\n"
     ]
    }
   ],
   "source": [
    "# -------------------- Solution ----------------------- #\n",
    "# Write your code here:\n",
    "start_hr = int(input(\"Starting hour 0-23: \"))\n",
    "start_min = int(input(\"Starting minutes: \"))\n",
    "\n",
    "end_hr= int(input(\"Ending hour 0-23: \"))\n",
    "end_min = int(input(\"Ending minutes: \"))\n",
    "\n",
    "num_tasks = int(input(\"Number of tasks completed: \"))\n",
    "\n",
    "start = start_hr * 60 + start_min\n",
    "end = end_hr * 60 + end_min\n",
    "total_time = end - start\n",
    "avg = total_time / num_tasks\n",
    "\n",
    "print(f\"Worked from {start_hr}:{start_min} to {end_hr}:{end_min}\")\n",
    "print(f\"Total time spent: {end_hr - start_hr} hours and {end_min - start_min} minutes\")\n",
    "print(f\"Average time per task {avg:.2f} minutes\")\n",
    "\n",
    "\n"
   ]
  },
  {
   "cell_type": "code",
   "execution_count": null,
   "metadata": {},
   "outputs": [],
   "source": []
  },
  {
   "cell_type": "markdown",
   "metadata": {},
   "source": [
    "**Exercise 2:**\n",
    "\n",
    "Write a program to complete the following:\n",
    "\n",
    "1. Create a list with the following elements: 15, 42, 7, -3, 28.\n",
    "2. Change the first element of the list (index 0) to 100.\n",
    "3. Print the resulting list and the sum of all the elements with odd indices in the list.\n"
   ]
  },
  {
   "cell_type": "code",
   "execution_count": 8,
   "metadata": {},
   "outputs": [
    {
     "name": "stdout",
     "output_type": "stream",
     "text": [
      "[100, 42, 7, -3, 28]\n",
      "39\n"
     ]
    }
   ],
   "source": [
    "# -------------------- Solution ----------------------- #\n",
    "# Write your code here:\n",
    "\n",
    "list1 = [15, 42, 7, -3, 28]\n",
    "list1[0] = 100\n",
    "print(list1)\n",
    "\n",
    "sum_odd = list1[1] + list1[3]\n",
    "print(sum_odd)\n"
   ]
  },
  {
   "cell_type": "markdown",
   "metadata": {},
   "source": [
    "**Exercise 3: Converting a List to a Tuple**\n",
    "\n",
    "A data analyst has a list of monthly sales figures for a company and wants to store them as a tuple to prevent accidental modifications. The `tuple()` function can be used to create a tuple from a list. For example, `my_tuple = tuple(my_list)` creates a tuple from the list `my_list`.\n",
    "\n",
    "- Update the program below to create a tuple named `monthly_sales` from the list `sales_figures`. \n",
    "\n",
    "```python\n",
    "# Given list of monthly sales figures\n",
    "sales_figures = [2500, 3000, 2750, 3200, 2900]\n",
    "\n",
    "# Your code here to create a tuple named monthly_sales\n",
    "```\n",
    "\n",
    "- Since tuples are immutable, create a new tuple named updated_sales that contains all the sales figures from monthly_sales, but with a 10% increase applied to the sales for the month of March (the third month).\n"
   ]
  },
  {
   "cell_type": "code",
   "execution_count": 14,
   "metadata": {},
   "outputs": [
    {
     "name": "stdout",
     "output_type": "stream",
     "text": [
      "(2500, 3000, 3025.0, 3200, 2900)\n"
     ]
    }
   ],
   "source": [
    "# -------------------- Solution ----------------------- #\n",
    "# Write your code here:\n",
    "sales_figures = [2500, 3000, 2750, 3200, 2900]\n",
    "\n",
    "monthly_sales = tuple(sales_figures)\n",
    "\n",
    "temp_sales = list(monthly_sales)\n",
    "\n",
    "temp_sales[2]= monthly_sales[2] + (monthly_sales[2] * 0.10)\n",
    "\n",
    "updated_sales = tuple(temp_sales)\n",
    "\n",
    "print(updated_sales)\n"
   ]
  },
  {
   "cell_type": "markdown",
   "metadata": {},
   "source": [
    "**Exercise 4: alculating Distance Units**\n",
    "\n",
    "The following program reads in a distance as a float and the unit as a string: \"m\" for miles or \"k\" for kilometers.\n",
    "\n",
    "Calculate `new_distance`, the result of converting `distance` from miles to kilometers or kilometers to miles based on `unit`. Calculate `new_unit`: \"k\" if `unit` is \"m\" and \"m\" if `unit` is \"k\".\n",
    "\n",
    "**Conversion formulas:**\n",
    "\n",
    "- $Kilometers = Miles * 1.60934$\n",
    "- $Miles = Kilometers / 1.60934$"
   ]
  },
  {
   "cell_type": "code",
   "execution_count": 20,
   "metadata": {},
   "outputs": [
    {
     "name": "stdout",
     "output_type": "stream",
     "text": [
      "59.54558 k\n"
     ]
    }
   ],
   "source": [
    "# -------------------- Solution ----------------------- #\n",
    "# Write your code here:\n",
    "distance = float(input(\"Enter your distance: \"))\n",
    "unit = input(\"Enter miles (m) or kilometers (k): \")\n",
    "\n",
    "if unit == \"m\":\n",
    "    new_distance = distance * 1.60934\n",
    "    new_unit = \"k\"\n",
    "else:\n",
    "    new_distance = distance / 1.60934\n",
    "    new_unit = \"m\"\n",
    "\n",
    "print(new_distance, new_unit)"
   ]
  },
  {
   "cell_type": "markdown",
   "metadata": {},
   "source": [
    "**Exercise 5: Temperature Check**\n",
    "\n",
    "Write a program that reads in the current temperature as an integer and checks if the temperature is within a comfortable range for outdoor activities. The comfortable temperature range is defined as being between 60°F and 80°F, inclusive.\n",
    "\n",
    "If the temperature is within the comfortable range, print \"Enjoy your day outside\". Otherwise, print \"Stay indoors\".\n"
   ]
  },
  {
   "cell_type": "code",
   "execution_count": 22,
   "metadata": {},
   "outputs": [
    {
     "name": "stdout",
     "output_type": "stream",
     "text": [
      "Enjoy your day outside!\n"
     ]
    }
   ],
   "source": [
    "# -------------------- Solution ----------------------- #\n",
    "# Write your code here:\n",
    "temp = int(input(\"Enter the temperature outside: \"))\n",
    "\n",
    "if 60 <= temp <= 80:\n",
    "    print(\"Enjoy your day outside!\")\n",
    "else:\n",
    "    print(\"Stay indoors.\")\n"
   ]
  },
  {
   "cell_type": "markdown",
   "metadata": {},
   "source": [
    "**Exercise 6: Sock Size Conversion**\n",
    "\n",
    "Write a program that reads in a sock size from the US sizing chart and computes the equivalent European sock size. (A subset of sizes is used.) If the input does not match S, M, L, or XL, the output should be assigned to -1. If the input is valid, output the corresponding European size. Ex: If the input is M, the output is \"40\".\n",
    "\n",
    "Size conversions for US size to European size:\n",
    "\n",
    "- S : 36\n",
    "- M : 40\n",
    "- L : 44\n",
    "- XL : 48\n"
   ]
  },
  {
   "cell_type": "code",
   "execution_count": null,
   "metadata": {},
   "outputs": [
    {
     "name": "stdout",
     "output_type": "stream",
     "text": [
      "40\n"
     ]
    }
   ],
   "source": [
    "# -------------------- Solution ----------------------- #\n",
    "# Write your code here:\n",
    "\n",
    "us_sock = input(\"Enter your US sock size: \")\n",
    "\n",
    "if us_sock == \"S\": \n",
    "    print(\"36\")\n",
    "elif us_sock == \"M\":\n",
    "    print(\"40\")\n",
    "elif us_sock == \"L\":\n",
    "    print(\"44\")\n",
    "elif us_sock == \"XL\":\n",
    "    print(\"48\")\n",
    "else:\n",
    "    print(\"-1\")"
   ]
  },
  {
   "cell_type": "markdown",
   "metadata": {},
   "source": [
    "**Exercise 7: Snack Orders**\n",
    "\n",
    "Write a program that reads in a string, \"snack\" or \"dessert\", representing the menu choice, and an integer, 1, 2, or 3, representing the user's snack or dessert choice. The program then prints the user's selection.\n",
    "\n",
    "**Snack Options:**\n",
    "\n",
    "1: Potato chips  \n",
    "2: Mixed nuts  \n",
    "3: Fruit salad  \n",
    "\n",
    "**Dessert Options:**\n",
    "\n",
    "1: Chocolate cake  \n",
    "2: Vanilla ice cream  \n",
    "3: Fruit tart  \n",
    "\n",
    "**Example:**\n",
    "\n",
    "If the input is:\n",
    "```\n",
    "dessert\n",
    "2\n",
    "```\n",
    "\n",
    "The output is:\n",
    "```\n",
    "Your order: Vanilla ice cream\n",
    "```"
   ]
  },
  {
   "cell_type": "markdown",
   "metadata": {},
   "source": []
  },
  {
   "cell_type": "code",
   "execution_count": null,
   "metadata": {},
   "outputs": [
    {
     "name": "stdout",
     "output_type": "stream",
     "text": [
      "Your order is Fruit salad\n"
     ]
    }
   ],
   "source": [
    "# -------------------- Solution ----------------------- #\n",
    "# Write your code here:\n",
    "meal = input(\"Enter your menu choice: \")\n",
    "choice = int(input(\"Enter your meal choice: \"))\n",
    "\n",
    "if meal == \"snack\": \n",
    "    if choice == \"1\":\n",
    "        order = \"Potato chips\"\n",
    "    elif choice == \"2\":\n",
    "        order = \"Mixed nuts\"\n",
    "    else:\n",
    "        order = \"Fruit salad\"\n",
    "else:\n",
    "    if choice == \"1\":\n",
    "        order = \"Chocolate cake\"\n",
    "    elif choice == \"2\":\n",
    "        order = \"Vanilla icecream\"\n",
    "    else:\n",
    "        order = \"Fruit tart\"\n",
    "\n",
    "print(\"Your order is\", order)"
   ]
  },
  {
   "cell_type": "code",
   "execution_count": null,
   "metadata": {},
   "outputs": [],
   "source": []
  },
  {
   "cell_type": "markdown",
   "metadata": {},
   "source": [
    "**Exercise 8: Temperature Evaluation**  \n",
    "Write a program that reads in an integer, `temperature`, and prints `temp_report`, a string indicating whether the temperature is cold, warm, or hot. Temperature values under 60 have a `temp_report` of \"cold\", values from 60 to 85 have a `temp_report` of \"warm\", and values above 85 have a `temp_report` of \"hot\". Use a conditional expression to assign `temp_report`.\n",
    "\n",
    "**Example:** If the input is 50, the output is \"Temperature is cold\"."
   ]
  },
  {
   "cell_type": "code",
   "execution_count": 27,
   "metadata": {},
   "outputs": [
    {
     "name": "stdout",
     "output_type": "stream",
     "text": [
      "Temperature is cold\n"
     ]
    }
   ],
   "source": [
    "# -------------------- Solution ----------------------- #\n",
    "# Write your code here:\n",
    "temp = int(input(\"Enter the temperature: \"))\n",
    "\n",
    "if temp < 60:\n",
    "    temp_report = \"cold\"\n",
    "elif temp < 85:\n",
    "    temp_report = \"warm\"\n",
    "else:\n",
    "    temp_report = \"hot\"\n",
    "\n",
    "print(f\"Temperature is {temp_report}\")"
   ]
  }
 ],
 "metadata": {
  "kernelspec": {
   "display_name": "Python 3",
   "language": "python",
   "name": "python3"
  },
  "language_info": {
   "codemirror_mode": {
    "name": "ipython",
    "version": 3
   },
   "file_extension": ".py",
   "mimetype": "text/x-python",
   "name": "python",
   "nbconvert_exporter": "python",
   "pygments_lexer": "ipython3",
   "version": "3.12.1"
  }
 },
 "nbformat": 4,
 "nbformat_minor": 2
}

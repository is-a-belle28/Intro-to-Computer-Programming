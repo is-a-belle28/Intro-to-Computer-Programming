{
 "cells": [
  {
   "cell_type": "markdown",
   "metadata": {},
   "source": [
    "## Intro to Computer Programming - Homework 5 - Wilmington College  "
   ]
  },
  {
   "cell_type": "markdown",
   "metadata": {},
   "source": [
    "### Exercise 1: Survey Consent Prompt\n",
    "\n",
    "Write a function, `survey_consent()`, that asks the user if they consent to participate in a survey. The user responds with \"Yes\" or \"No\", and the function outputs a response based on their input. In the main program, read the number of respondents and call `survey_consent()` for each user.\n",
    "\n",
    "Given inputs 1 and \"Yes\", the output is:\n",
    "\n",
    "```\n",
    "Do you consent to participate in the survey?\n",
    "Yes\n",
    "Thank you for consenting to participate.\n",
    "```\n",
    "\n",
    "Given inputs 2, \"No\", and \"Yes\", the output is:\n",
    "\n",
    "```\n",
    "Do you consent to participate in the survey?\n",
    "No\n",
    "We respect your decision.\n",
    "Do you consent to participate in the survey?\n",
    "Yes\n",
    "Thank you for consenting to participate.\n",
    "```"
   ]
  },
  {
   "cell_type": "code",
   "execution_count": 1,
   "metadata": {},
   "outputs": [],
   "source": [
    "# -------------------- Solution ----------------------- #\n",
    "# Write your code here:\n"
   ]
  },
  {
   "cell_type": "markdown",
   "metadata": {},
   "source": [
    "### Exercise 2: Coffee Shop Information\n",
    "\n",
    "Write a program that uses three functions to print information about a coffee shop, Java Junction:\n",
    "\n",
    "1. **coffee_shop_info()**: Prints the name, Java Junction, and hours of operation, 6a - 8p, and calls drinks_available() and pastries_available().\n",
    "2. **drinks_available()**: Reads an integer, assigns drink_count with the value, and prints drink_count.\n",
    "3. **pastries_available()**: Reads an integer, assigns pastry_count with the value, and prints pastry_count.\n",
    "\n",
    "The main program should just call coffee_shop_info().\n",
    "\n",
    "Given inputs 70 and 30, the output should be:\n",
    "\n",
    "```\n",
    "Java Junction\n",
    "6a - 8p\n",
    " Open drinks: 70\n",
    " Open pastries: 30\n",
    "```"
   ]
  },
  {
   "cell_type": "code",
   "execution_count": null,
   "metadata": {},
   "outputs": [],
   "source": [
    "# -------------------- Solution ----------------------- #\n",
    "# Write your code here:\n",
    "\n"
   ]
  },
  {
   "cell_type": "markdown",
   "metadata": {},
   "source": [
    "### Exercise 3: Escape Room Game Launch\n",
    "\n",
    "Write a program that reads in a selected game mode and calls one of two functions to launch the game. If the input is \"er\", call `escape_room()`. Otherwise, call `team_building()`.\n",
    "\n",
    "`escape_room()`:\n",
    "1. Reads in the number of players.\n",
    "2. Computes the number of additional players needed to form a full team of 4 players.\n",
    "3. Calls the function `find_additional_players()` with the calculated number.\n",
    "4. Prints \"Escape Room is starting...\".\n",
    "\n",
    "`team_building()`:\n",
    "1. Reads in a string representing the desired activity.\n",
    "2. Prints \"Starting team building with [desired activity]\".\n",
    "\n",
    "Note: `find_additional_players()` is provided and does not need to be edited.\n",
    "\n",
    "**Given input:**\n",
    "\n",
    "```\n",
    "er\n",
    "2\n",
    "```\n",
    "\n",
    "**The output is:**\n",
    "\n",
    "```\n",
    "Finding 2 additional players...\n",
    "Escape Room is starting...\n",
    "```\n",
    "\n",
    "**Given input:**\n",
    "\n",
    "```\n",
    "tb\n",
    "Trust Fall\n",
    "```\n",
    "\n",
    "**The output is:**\n",
    "\n",
    "```\n",
    "Starting team building with Trust Fall\n",
    "```"
   ]
  },
  {
   "cell_type": "code",
   "execution_count": null,
   "metadata": {},
   "outputs": [],
   "source": [
    "# -------------------- Solution ----------------------- #\n",
    "# Write your code here:\n",
    "\n"
   ]
  },
  {
   "cell_type": "markdown",
   "metadata": {},
   "source": [
    "### Exercise 4: Printing Rectangle Area\n",
    "Write a function, `print_rectangle_area()`, that takes in the length and width of a rectangle and prints the rectangle's area. The area of a rectangle is given by the formula $ l \\times w $, where $ l $ is the length and $ w $ is the width.\n",
    "\n",
    "**Given input:**\n",
    "\n",
    "```\n",
    "5\n",
    "3\n",
    "```\n",
    "\n",
    "**The output is:**\n",
    "\n",
    "```\n",
    "Rectangle area: 15.0\n",
    "```\n"
   ]
  },
  {
   "cell_type": "code",
   "execution_count": null,
   "metadata": {},
   "outputs": [],
   "source": [
    "# -------------------- Solution ----------------------- #\n",
    "# Write your code here:\n",
    "\n"
   ]
  },
  {
   "cell_type": "markdown",
   "metadata": {},
   "source": [
    "### Exercise 5: maxing lists\n",
    "\n",
    "Write a function, `max_list()`, that takes in a list and returns the maximum value from the list.\n"
   ]
  },
  {
   "cell_type": "code",
   "execution_count": null,
   "metadata": {},
   "outputs": [],
   "source": [
    "# -------------------- Solution ----------------------- #\n",
    "# Write your code here:\n",
    "\n"
   ]
  },
  {
   "cell_type": "markdown",
   "metadata": {},
   "source": [
    "### Exercise 6: Stream Subscription\n",
    "\n",
    "Write a function, `subscribe()`, that allows a viewer to subscribe to a streamer. `subscribe()` has three parameters:\n",
    "\n",
    "- `tier`: subscription tier, default value: \"Basic\"\n",
    "- `name`: subscriber's name, default value: \"Guest\"\n",
    "- `msg`: subscriber's message, default value: \"\"\n",
    "\n",
    "Given:\n",
    "\n",
    "```python\n",
    "subscribe(\"Premium\", \"Alex\")\n",
    "```\n",
    "\n",
    "The output should be:\n",
    "\n",
    "```\n",
    "Guest subscribed to Premium tier: Welcome Alex!\n",
    "```\n",
    "\n",
    "Write function calls that use the default values along with positional and keyword arguments."
   ]
  },
  {
   "cell_type": "code",
   "execution_count": null,
   "metadata": {},
   "outputs": [],
   "source": [
    "# -------------------- Solution ----------------------- #\n",
    "# Write your code here:\n"
   ]
  }
 ],
 "metadata": {
  "kernelspec": {
   "display_name": "Python 3",
   "language": "python",
   "name": "python3"
  },
  "language_info": {
   "codemirror_mode": {
    "name": "ipython",
    "version": 3
   },
   "file_extension": ".py",
   "mimetype": "text/x-python",
   "name": "python",
   "nbconvert_exporter": "python",
   "pygments_lexer": "ipython3",
   "version": "3.12.1"
  }
 },
 "nbformat": 4,
 "nbformat_minor": 2
}

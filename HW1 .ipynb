{
 "cells": [
  {
   "cell_type": "markdown",
   "metadata": {},
   "source": [
    "# Intro to Computer Programming - Homework 1 Wilmington College\n",
    "\n",
    "**Submission Instructions:**\n",
    "Please complete the homework and submit it to the Blackboard. In case you encounter any issues or have questions, feel free to seek assistance from me.\n",
    "\n",
    "**Alternative Submission:**\n",
    "If, for any reason, you are unable to use BB, you can submit your work via email.\n",
    "\n",
    "Remember, timely completion of assignments is crucial for your understanding of the course material. If you face any challenges, don't hesitate to reach out."
   ]
  },
  {
   "cell_type": "markdown",
   "metadata": {},
   "source": [
    "**Exercise 1: Basic Input and Output**\n",
    "\n",
    "Write a program that asks the user for their family name and age, then prints a greeting message that includes their family name and how old they will be in 10 years.\n"
   ]
  },
  {
   "cell_type": "code",
   "execution_count": null,
   "metadata": {},
   "outputs": [],
   "source": [
    "# Sample Output:\n",
    "# What is your family name? Tabibian\n",
    "# How old are you? 39\n",
    "# Hello, Tabibian! In ten years, you will be 49 years old.\n",
    "\n",
    "# -------------------- Solution ----------------------- #\n",
    "# Write your code here:"
   ]
  },
  {
   "cell_type": "markdown",
   "metadata": {},
   "source": [
    "**Exercise 2: Arithmetic Operations**\n",
    "\n",
    "Create a program that asks the user to input two numbers and then outputs the result of adding, subtracting, multiplying, and dividing them.\n",
    "\n",
    "**Hint:** Use the arithmetic operators +, -, *, and /. \n",
    "\n",
    "**Extra Credit** Consider what should happen if the user inputs zero as the second number."
   ]
  },
  {
   "cell_type": "code",
   "execution_count": null,
   "metadata": {},
   "outputs": [],
   "source": [
    "# Sample Output:\n",
    "# Enter the first number: 8\n",
    "# Enter the second number: 0\n",
    "# 8 + 0 = 8\n",
    "# 8 - 0 = 8\n",
    "# 8 * 0 = 0\n",
    "# 8 / 0 = Undifined\n",
    "\n",
    "# -------------------- Solution ----------------------- #\n",
    "# Write your code here:"
   ]
  },
  {
   "cell_type": "markdown",
   "metadata": {},
   "source": [
    "**Exercise 3: Documenting Code with Comments and Docstrings**\n",
    "\n",
    "Write a program that converts temperature from Fahrenheit to Celsius . Use comments to explain each part of your code and include a docstring at the beginning to describe the program's purpose.\n",
    "\n",
    "**Hint:** The formula for converting F to C is $C = (F - 32) * 5/9$.\n"
   ]
  },
  {
   "cell_type": "code",
   "execution_count": null,
   "metadata": {},
   "outputs": [],
   "source": [
    "# -------------------- Solution ----------------------- #\n",
    "# Write your code here:\n"
   ]
  },
  {
   "cell_type": "markdown",
   "metadata": {},
   "source": [
    "**Exercise 4: Debugging a Program with Multiple Errors**\n",
    "The following program contains three errors. Follow the steps to find and correct each error:\n",
    "\n",
    "Step 1: Run the program to identify the first error. Correct the line of code where the error occurs.\n",
    "Step 2: Run the program again to find and correct the second error.\n",
    "Step 3: Continue running and correcting the program until all errors are fixed and the program runs successfully."
   ]
  },
  {
   "cell_type": "code",
   "execution_count": null,
   "metadata": {},
   "outputs": [],
   "source": [
    "# Program to calculate the area of a rectangle\n",
    "\n",
    "length = float(input(\"Enter the length: \"))\n",
    "width = float(input(\"Enter the width: \")\n",
    "\n",
    "area = lentgh * width\n",
    "print(\"The area of the rectangle is: \", area)"
   ]
  },
  {
   "cell_type": "code",
   "execution_count": null,
   "metadata": {},
   "outputs": [],
   "source": [
    "# -------------------- Solution ----------------------- #\n",
    "# Write your code here:\n",
    "\n"
   ]
  },
  {
   "cell_type": "markdown",
   "metadata": {},
   "source": [
    "**Exercise 5: Exploring the Cause of an Error**\n",
    "Given the following error message, explain the cause of the error and how to fix it:\n",
    "\n",
    "``` python\n",
    "Traceback (most recent call last):\n",
    "  File \"/home/student/Desktop/calculator.py\", line 4\n",
    "    total = 5 + * 3\n",
    "                ^\n",
    "SyntaxError: invalid syntax\n",
    "```\n",
    "**Question:** What caused this error and how would you correct it?"
   ]
  },
  {
   "cell_type": "markdown",
   "metadata": {},
   "source": [
    "**Solution**\n",
    "\n",
    "**Cause of the Error:** Type your answer:\n",
    "\n",
    "\n",
    "\n",
    "**How to Fix It:** Type your answer:\n"
   ]
  }
 ],
 "metadata": {
  "kernelspec": {
   "display_name": "Python 3",
   "language": "python",
   "name": "python3"
  },
  "language_info": {
   "codemirror_mode": {
    "name": "ipython",
    "version": 3
   },
   "file_extension": ".py",
   "mimetype": "text/x-python",
   "name": "python",
   "nbconvert_exporter": "python",
   "pygments_lexer": "ipython3",
   "version": "3.12.1"
  }
 },
 "nbformat": 4,
 "nbformat_minor": 2
}

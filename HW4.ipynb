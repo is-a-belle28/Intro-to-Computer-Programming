{
 "cells": [
  {
   "cell_type": "markdown",
   "metadata": {},
   "source": [
    "## Intro to Computer Programming - Homework 4 - Wilmington College  \n",
    "\n",
    "Welcome to Homework 4 for the Intro to Computer Programming course.\n",
    "\n",
    "Remember, timely completion of assignments is crucial for your understanding of the course material. If you face any challenges, don't hesitate to reach out."
   ]
  },
  {
   "cell_type": "markdown",
   "metadata": {},
   "source": [
    "### Exercise 1: Reading Numbers in a while loop\n",
    "\n",
    "Write a program that continuously prompts the user to enter a number until they input the number 0. The program should keep accepting inputs until this condition is met. Once the user enters 0, the program should print \"Loop terminated: 0 has been entered.\"\n",
    "\n",
    "Test your code with various numbers to verify that the loop continues to run until 0 is entered."
   ]
  },
  {
   "cell_type": "code",
   "execution_count": null,
   "metadata": {},
   "outputs": [],
   "source": [
    "# -------------------- Solution ----------------------- #\n",
    "# Write your code here:\n",
    "\n"
   ]
  },
  {
   "cell_type": "markdown",
   "metadata": {},
   "source": [
    "### Exercise 2: Product of Even Numbers\n",
    "\n",
    "Write a program that reads two integer values, x1 and x2. Use a while loop to calculate the product of all even numbers between x1 and x2 (inclusive of x1 and x2). Remember, a number is even if number % 2 == 0. If there are no even numbers in the range, the product should be 1."
   ]
  },
  {
   "cell_type": "code",
   "execution_count": null,
   "metadata": {},
   "outputs": [],
   "source": [
    "# -------------------- Solution ----------------------- #\n",
    "# Write your code here:\n",
    "\n"
   ]
  },
  {
   "cell_type": "markdown",
   "metadata": {},
   "source": [
    "### Exercise 3: Counting vowels\n",
    "\n",
    "Write a program using a for loop that takes in a string as input and counts the number of vowels (a, e, i, o, u) in the provided string, regardless of case. The program must print the number of vowels counted.\n",
    "\n",
    "**Example:**\n",
    "If the input is \"Hello World\", the program outputs 3."
   ]
  },
  {
   "cell_type": "code",
   "execution_count": null,
   "metadata": {},
   "outputs": [],
   "source": [
    "# -------------------- Solution ----------------------- #\n",
    "# Write your code here:\n",
    "\n"
   ]
  },
  {
   "cell_type": "markdown",
   "metadata": {},
   "source": [
    "### Exercise 4: equences\n",
    "\n",
    "Write a program that reads two integer values, `n1` and `n2`, with `n1 < n2`, and performs the following tasks:\n",
    "\n",
    "1. Prints all multiples of 3 between the two provided numbers (inclusive of both), in ascending order.\n",
    "2. Prints all multiples of 5 between the two provided numbers (exclusive of both), in descending order.\n",
    "\n",
    "**Input:**  \n",
    "`3 30`\n",
    "\n",
    "**Expected Output:**  \n",
    "```\n",
    "3 6 9 12 15 18 21 24 27 30\n",
    "25 20 15 10\n",
    "```"
   ]
  },
  {
   "cell_type": "code",
   "execution_count": null,
   "metadata": {},
   "outputs": [],
   "source": [
    "# -------------------- Solution ----------------------- #\n",
    "# Write your code here:\n"
   ]
  },
  {
   "cell_type": "markdown",
   "metadata": {},
   "source": [
    "### Exercise 5: Printing a Reverse Triangle of Stars\n",
    " \n",
    "Write a program that prints the following output:\n",
    "\n",
    "```\n",
    "*********\n",
    " ********\n",
    "  ********\n",
    "   ********\n",
    "    ********\n",
    "     ********\n",
    "      ********\n",
    "       ********\n",
    "        ********\n",
    "```"
   ]
  },
  {
   "cell_type": "code",
   "execution_count": null,
   "metadata": {},
   "outputs": [],
   "source": [
    "# -------------------- Solution ----------------------- #\n",
    "# Write your code here:\n"
   ]
  },
  {
   "cell_type": "markdown",
   "metadata": {},
   "source": [
    "### Exercise 6: Using the break Control Statement in a Loop\n",
    "Write a program that reads a string value and prints \"Found\" if the string contains the letter 'a'. Otherwise, print \"Not found\".\n"
   ]
  },
  {
   "cell_type": "code",
   "execution_count": null,
   "metadata": {},
   "outputs": [],
   "source": [
    "# -------------------- Solution ----------------------- #\n",
    "# Write your code here:\n"
   ]
  },
  {
   "cell_type": "markdown",
   "metadata": {},
   "source": [
    "### Exercise 7: Using a break statement in a loop\n",
    "\n",
    "Complete the following code so that the program finds the first number in the list my_list that is less than 3. The program should print that number and stop checking the rest of the list."
   ]
  },
  {
   "cell_type": "code",
   "execution_count": null,
   "metadata": {},
   "outputs": [],
   "source": [
    "# -------------------- Solution ----------------------- #\n",
    "# Write your code here:\n"
   ]
  },
  {
   "cell_type": "markdown",
   "metadata": {},
   "source": [
    "### Exercise 8: Sum of Even Values Greater than 5\n",
    "\n",
    "Write a program that, given a list, calculates the sum of all even integer values greater than 5. If a value less than or equal to 5 is found in the list, no output should be printed. Test the code with different values in the list."
   ]
  },
  {
   "cell_type": "code",
   "execution_count": null,
   "metadata": {},
   "outputs": [],
   "source": [
    "# -------------------- Solution ----------------------- #\n",
    "# Write your code here:\n"
   ]
  },
  {
   "cell_type": "markdown",
   "metadata": {},
   "source": [
    "### Exercise 9: Prime Fibonacci Numbers\n",
    "Write a program that takes in a positive integer number (N) and prints out the first N prime numbers from the Fibonacci sequence on separate lines.\n",
    "\n",
    "Note: A prime number is a number greater than 1 that has no positive divisors other than 1 and itself. To check whether a number is prime, you can use the condition `number % i != 0` for `i` greater than 1 and less than `number`. The Fibonacci sequence starts with 0 and 1, and each subsequent number is the sum of the two preceding ones. \n",
    "\n",
    "Ex: if N = 4, the output is:\n",
    "\n",
    "```\n",
    "2\n",
    "3\n",
    "5\n",
    "13\n",
    "```\n",
    "\n",
    "**Instructions:**\n",
    "\n",
    "1. Read the input value N from the user.\n",
    "2. Generate Fibonacci numbers and check for primality until you find the first N prime numbers.\n",
    "3. Print the prime Fibonacci numbers.\n"
   ]
  },
  {
   "cell_type": "code",
   "execution_count": null,
   "metadata": {},
   "outputs": [],
   "source": [
    "# -------------------- Solution ----------------------- #\n",
    "# Write your code here:\n"
   ]
  }
 ],
 "metadata": {
  "kernelspec": {
   "display_name": "Python 3",
   "language": "python",
   "name": "python3"
  },
  "language_info": {
   "codemirror_mode": {
    "name": "ipython",
    "version": 3
   },
   "file_extension": ".py",
   "mimetype": "text/x-python",
   "name": "python",
   "nbconvert_exporter": "python",
   "pygments_lexer": "ipython3",
   "version": "3.12.1"
  }
 },
 "nbformat": 4,
 "nbformat_minor": 2
}
